{
 "cells": [
  {
   "cell_type": "code",
   "execution_count": 1,
   "id": "cef9f143-8e66-44e5-88d7-6ba1815d64af",
   "metadata": {},
   "outputs": [],
   "source": []
  },
  {
   "cell_type": "code",
   "execution_count": 2,
   "id": "9955329a-a64b-44ba-9542-888e5f75e581",
   "metadata": {},
   "outputs": [
    {
     "ename": "ValueError",
     "evalue": "Data must be exactly 24 bytes long",
     "output_type": "error",
     "traceback": [
      "\u001b[1;31m---------------------------------------------------------------------------\u001b[0m",
      "\u001b[1;31mValueError\u001b[0m                                Traceback (most recent call last)",
      "Cell \u001b[1;32mIn[2], line 1\u001b[0m\n\u001b[1;32m----> 1\u001b[0m file \u001b[38;5;241m=\u001b[39m fr\u001b[38;5;241m.\u001b[39mDataFile(\u001b[38;5;124m\"\u001b[39m\u001b[38;5;124m000000.dat\u001b[39m\u001b[38;5;124m\"\u001b[39m)\n",
      "File \u001b[1;32m~\\Documents\\GitHub\\datafile_reader_python\\rr_python_file_reader\\data_file.py:187\u001b[0m, in \u001b[0;36mDataFile.__init__\u001b[1;34m(self, filename)\u001b[0m\n\u001b[0;32m    185\u001b[0m \u001b[38;5;28;01mfor\u001b[39;00m i \u001b[38;5;129;01min\u001b[39;00m \u001b[38;5;28mrange\u001b[39m(\u001b[38;5;28mself\u001b[39m\u001b[38;5;241m.\u001b[39mmetadata\u001b[38;5;241m.\u001b[39mn_full_data_sections):\n\u001b[0;32m    186\u001b[0m     f\u001b[38;5;241m.\u001b[39mseek(\u001b[38;5;28mself\u001b[39m\u001b[38;5;241m.\u001b[39mfull_data_offsets[i])\n\u001b[1;32m--> 187\u001b[0m     \u001b[38;5;28mself\u001b[39m\u001b[38;5;241m.\u001b[39mfull_data\u001b[38;5;241m.\u001b[39mappend(FullRunData(f))\n",
      "File \u001b[1;32m~\\Documents\\GitHub\\datafile_reader_python\\rr_python_file_reader\\data_file.py:144\u001b[0m, in \u001b[0;36mFullRunData.__init__\u001b[1;34m(self, f)\u001b[0m\n\u001b[0;32m    143\u001b[0m \u001b[38;5;28;01mdef\u001b[39;00m \u001b[38;5;21m__init__\u001b[39m(\u001b[38;5;28mself\u001b[39m, f:BinaryIO):\n\u001b[1;32m--> 144\u001b[0m     \u001b[38;5;28mself\u001b[39m\u001b[38;5;241m.\u001b[39mheaders \u001b[38;5;241m=\u001b[39m FullDataHeaders(f\u001b[38;5;241m.\u001b[39mread(FullDataHeaders\u001b[38;5;241m.\u001b[39m_size))\n\u001b[0;32m    145\u001b[0m     \u001b[38;5;28mself\u001b[39m\u001b[38;5;241m.\u001b[39mpoints \u001b[38;5;241m=\u001b[39m []\n\u001b[0;32m    146\u001b[0m     \u001b[38;5;28;01mfor\u001b[39;00m i \u001b[38;5;129;01min\u001b[39;00m \u001b[38;5;28mrange\u001b[39m(\u001b[38;5;28mself\u001b[39m\u001b[38;5;241m.\u001b[39mheaders\u001b[38;5;241m.\u001b[39mlength):\n",
      "File \u001b[1;32m~\\Documents\\GitHub\\datafile_reader_python\\rr_python_file_reader\\data_file.py:131\u001b[0m, in \u001b[0;36mFullDataHeaders.__init__\u001b[1;34m(self, data)\u001b[0m\n\u001b[0;32m    129\u001b[0m \u001b[38;5;28;01mdef\u001b[39;00m \u001b[38;5;21m__init__\u001b[39m(\u001b[38;5;28mself\u001b[39m, data: \u001b[38;5;28mbytes\u001b[39m):\n\u001b[0;32m    130\u001b[0m     \u001b[38;5;28;01mif\u001b[39;00m \u001b[38;5;28mlen\u001b[39m(data) \u001b[38;5;241m!=\u001b[39m FullDataHeaders\u001b[38;5;241m.\u001b[39m_size:\n\u001b[1;32m--> 131\u001b[0m         \u001b[38;5;28;01mraise\u001b[39;00m \u001b[38;5;167;01mValueError\u001b[39;00m(\u001b[38;5;124mf\u001b[39m\u001b[38;5;124m\"\u001b[39m\u001b[38;5;124mData must be exactly \u001b[39m\u001b[38;5;132;01m{\u001b[39;00mFullDataHeaders\u001b[38;5;241m.\u001b[39m_size\u001b[38;5;132;01m}\u001b[39;00m\u001b[38;5;124m bytes long\u001b[39m\u001b[38;5;124m\"\u001b[39m)\n\u001b[0;32m    132\u001b[0m     (\u001b[38;5;28mself\u001b[39m\u001b[38;5;241m.\u001b[39mrail_temperature, \u001b[38;5;28mself\u001b[39m\u001b[38;5;241m.\u001b[39mhumidity, \u001b[38;5;28mself\u001b[39m\u001b[38;5;241m.\u001b[39mair_temperature, \u001b[38;5;28mself\u001b[39m\u001b[38;5;241m.\u001b[39mair_pressure, \n\u001b[0;32m    133\u001b[0m      \u001b[38;5;28mself\u001b[39m\u001b[38;5;241m.\u001b[39mrep, \u001b[38;5;28mself\u001b[39m\u001b[38;5;241m.\u001b[39mrun, \u001b[38;5;28mself\u001b[39m\u001b[38;5;241m.\u001b[39mlength) \u001b[38;5;241m=\u001b[39m struct\u001b[38;5;241m.\u001b[39munpack(FullDataHeaders\u001b[38;5;241m.\u001b[39m_format, data)\n",
      "\u001b[1;31mValueError\u001b[0m: Data must be exactly 24 bytes long"
     ]
    }
   ],
   "source": []
  },
  {
   "cell_type": "code",
   "execution_count": 14,
   "id": "55a1de1a-3bf3-4864-af52-9e056daa72bf",
   "metadata": {},
   "outputs": [
    {
     "ename": "TypeError",
     "evalue": "list expected at most 1 argument, got 6",
     "output_type": "error",
     "traceback": [
      "\u001b[1;31m---------------------------------------------------------------------------\u001b[0m",
      "\u001b[1;31mTypeError\u001b[0m                                 Traceback (most recent call last)",
      "Cell \u001b[1;32mIn[14], line 1\u001b[0m\n\u001b[1;32m----> 1\u001b[0m \u001b[38;5;28mlist\u001b[39m(\u001b[38;5;241m*\u001b[39mb[\u001b[38;5;241m0\u001b[39m])\n",
      "\u001b[1;31mTypeError\u001b[0m: list expected at most 1 argument, got 6"
     ]
    }
   ],
   "source": []
  },
  {
   "cell_type": "code",
   "execution_count": 16,
   "id": "9d75df98-5c44-432a-876f-7ea14d5a42a5",
   "metadata": {},
   "outputs": [
    {
     "data": {
      "text/plain": [
       "98"
      ]
     },
     "execution_count": 16,
     "metadata": {},
     "output_type": "execute_result"
    }
   ],
   "source": []
  },
  {
   "cell_type": "code",
   "execution_count": null,
   "id": "7234c560-2f3e-4d2b-9e6a-cb65f65bd52d",
   "metadata": {},
   "outputs": [],
   "source": []
  }
 ],
 "metadata": {
  "kernelspec": {
   "display_name": "Python 3 (ipykernel)",
   "language": "python",
   "name": "python3"
  },
  "language_info": {
   "codemirror_mode": {
    "name": "ipython",
    "version": 3
   },
   "file_extension": ".py",
   "mimetype": "text/x-python",
   "name": "python",
   "nbconvert_exporter": "python",
   "pygments_lexer": "ipython3",
   "version": "3.12.7"
  }
 },
 "nbformat": 4,
 "nbformat_minor": 5
}
